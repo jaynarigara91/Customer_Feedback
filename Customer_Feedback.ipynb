{
 "cells": [
  {
   "cell_type": "code",
   "execution_count": 1,
   "metadata": {},
   "outputs": [],
   "source": [
    "import pandas as pd\n",
    "import matplotlib.pyplot as plt\n",
    "import seaborn as sns\n",
    "from sklearn.model_selection import train_test_split\n",
    "from sklearn.model_selection import GridSearchCV,cross_validate,cross_val_score\n",
    "from sklearn.preprocessing import LabelEncoder\n",
    "from sklearn.linear_model import LinearRegression\n",
    "from sklearn.tree import DecisionTreeRegressor\n",
    "from sklearn.naive_bayes import MultinomialNB\n",
    "from sklearn.svm import SVR\n",
    "from sklearn.ensemble import RandomForestRegressor,GradientBoostingRegressor\n",
    "from xgboost import XGBRegressor\n",
    "import tensorflow\n",
    "from tensorflow.keras.models import Sequential\n",
    "from tensorflow.keras.layers import Dense\n",
    "from sklearn.metrics import mean_absolute_error,mean_squared_error,r2_score"
   ]
  },
  {
   "cell_type": "code",
   "execution_count": 2,
   "metadata": {},
   "outputs": [],
   "source": [
    "data = pd.read_csv('customer_feedback_satisfaction.csv')"
   ]
  },
  {
   "cell_type": "code",
   "execution_count": 3,
   "metadata": {},
   "outputs": [
    {
     "data": {
      "text/html": [
       "<div>\n",
       "<style scoped>\n",
       "    .dataframe tbody tr th:only-of-type {\n",
       "        vertical-align: middle;\n",
       "    }\n",
       "\n",
       "    .dataframe tbody tr th {\n",
       "        vertical-align: top;\n",
       "    }\n",
       "\n",
       "    .dataframe thead th {\n",
       "        text-align: right;\n",
       "    }\n",
       "</style>\n",
       "<table border=\"1\" class=\"dataframe\">\n",
       "  <thead>\n",
       "    <tr style=\"text-align: right;\">\n",
       "      <th></th>\n",
       "      <th>CustomerID</th>\n",
       "      <th>Age</th>\n",
       "      <th>Gender</th>\n",
       "      <th>Country</th>\n",
       "      <th>Income</th>\n",
       "      <th>ProductQuality</th>\n",
       "      <th>ServiceQuality</th>\n",
       "      <th>PurchaseFrequency</th>\n",
       "      <th>FeedbackScore</th>\n",
       "      <th>LoyaltyLevel</th>\n",
       "      <th>SatisfactionScore</th>\n",
       "    </tr>\n",
       "  </thead>\n",
       "  <tbody>\n",
       "    <tr>\n",
       "      <th>0</th>\n",
       "      <td>1</td>\n",
       "      <td>56</td>\n",
       "      <td>Male</td>\n",
       "      <td>UK</td>\n",
       "      <td>83094</td>\n",
       "      <td>5</td>\n",
       "      <td>8</td>\n",
       "      <td>5</td>\n",
       "      <td>Low</td>\n",
       "      <td>Bronze</td>\n",
       "      <td>100.00</td>\n",
       "    </tr>\n",
       "    <tr>\n",
       "      <th>1</th>\n",
       "      <td>2</td>\n",
       "      <td>69</td>\n",
       "      <td>Male</td>\n",
       "      <td>UK</td>\n",
       "      <td>86860</td>\n",
       "      <td>10</td>\n",
       "      <td>2</td>\n",
       "      <td>8</td>\n",
       "      <td>Medium</td>\n",
       "      <td>Gold</td>\n",
       "      <td>100.00</td>\n",
       "    </tr>\n",
       "    <tr>\n",
       "      <th>2</th>\n",
       "      <td>3</td>\n",
       "      <td>46</td>\n",
       "      <td>Female</td>\n",
       "      <td>USA</td>\n",
       "      <td>60173</td>\n",
       "      <td>8</td>\n",
       "      <td>10</td>\n",
       "      <td>18</td>\n",
       "      <td>Medium</td>\n",
       "      <td>Silver</td>\n",
       "      <td>100.00</td>\n",
       "    </tr>\n",
       "    <tr>\n",
       "      <th>3</th>\n",
       "      <td>4</td>\n",
       "      <td>32</td>\n",
       "      <td>Female</td>\n",
       "      <td>UK</td>\n",
       "      <td>73884</td>\n",
       "      <td>7</td>\n",
       "      <td>10</td>\n",
       "      <td>16</td>\n",
       "      <td>Low</td>\n",
       "      <td>Gold</td>\n",
       "      <td>100.00</td>\n",
       "    </tr>\n",
       "    <tr>\n",
       "      <th>4</th>\n",
       "      <td>5</td>\n",
       "      <td>60</td>\n",
       "      <td>Male</td>\n",
       "      <td>UK</td>\n",
       "      <td>97546</td>\n",
       "      <td>6</td>\n",
       "      <td>4</td>\n",
       "      <td>13</td>\n",
       "      <td>Low</td>\n",
       "      <td>Bronze</td>\n",
       "      <td>82.00</td>\n",
       "    </tr>\n",
       "    <tr>\n",
       "      <th>...</th>\n",
       "      <td>...</td>\n",
       "      <td>...</td>\n",
       "      <td>...</td>\n",
       "      <td>...</td>\n",
       "      <td>...</td>\n",
       "      <td>...</td>\n",
       "      <td>...</td>\n",
       "      <td>...</td>\n",
       "      <td>...</td>\n",
       "      <td>...</td>\n",
       "      <td>...</td>\n",
       "    </tr>\n",
       "    <tr>\n",
       "      <th>38439</th>\n",
       "      <td>38440</td>\n",
       "      <td>55</td>\n",
       "      <td>Female</td>\n",
       "      <td>USA</td>\n",
       "      <td>80880</td>\n",
       "      <td>6</td>\n",
       "      <td>3</td>\n",
       "      <td>14</td>\n",
       "      <td>High</td>\n",
       "      <td>Silver</td>\n",
       "      <td>75.85</td>\n",
       "    </tr>\n",
       "    <tr>\n",
       "      <th>38440</th>\n",
       "      <td>38441</td>\n",
       "      <td>44</td>\n",
       "      <td>Male</td>\n",
       "      <td>Canada</td>\n",
       "      <td>42845</td>\n",
       "      <td>5</td>\n",
       "      <td>10</td>\n",
       "      <td>1</td>\n",
       "      <td>Low</td>\n",
       "      <td>Silver</td>\n",
       "      <td>100.00</td>\n",
       "    </tr>\n",
       "    <tr>\n",
       "      <th>38441</th>\n",
       "      <td>38442</td>\n",
       "      <td>43</td>\n",
       "      <td>Female</td>\n",
       "      <td>USA</td>\n",
       "      <td>71433</td>\n",
       "      <td>7</td>\n",
       "      <td>9</td>\n",
       "      <td>7</td>\n",
       "      <td>Medium</td>\n",
       "      <td>Bronze</td>\n",
       "      <td>100.00</td>\n",
       "    </tr>\n",
       "    <tr>\n",
       "      <th>38442</th>\n",
       "      <td>38443</td>\n",
       "      <td>28</td>\n",
       "      <td>Female</td>\n",
       "      <td>USA</td>\n",
       "      <td>105587</td>\n",
       "      <td>7</td>\n",
       "      <td>5</td>\n",
       "      <td>16</td>\n",
       "      <td>High</td>\n",
       "      <td>Silver</td>\n",
       "      <td>100.00</td>\n",
       "    </tr>\n",
       "    <tr>\n",
       "      <th>38443</th>\n",
       "      <td>38444</td>\n",
       "      <td>64</td>\n",
       "      <td>Female</td>\n",
       "      <td>Canada</td>\n",
       "      <td>105379</td>\n",
       "      <td>2</td>\n",
       "      <td>2</td>\n",
       "      <td>8</td>\n",
       "      <td>High</td>\n",
       "      <td>Bronze</td>\n",
       "      <td>71.81</td>\n",
       "    </tr>\n",
       "  </tbody>\n",
       "</table>\n",
       "<p>38444 rows × 11 columns</p>\n",
       "</div>"
      ],
      "text/plain": [
       "       CustomerID  Age  Gender Country  Income  ProductQuality  \\\n",
       "0               1   56    Male      UK   83094               5   \n",
       "1               2   69    Male      UK   86860              10   \n",
       "2               3   46  Female     USA   60173               8   \n",
       "3               4   32  Female      UK   73884               7   \n",
       "4               5   60    Male      UK   97546               6   \n",
       "...           ...  ...     ...     ...     ...             ...   \n",
       "38439       38440   55  Female     USA   80880               6   \n",
       "38440       38441   44    Male  Canada   42845               5   \n",
       "38441       38442   43  Female     USA   71433               7   \n",
       "38442       38443   28  Female     USA  105587               7   \n",
       "38443       38444   64  Female  Canada  105379               2   \n",
       "\n",
       "       ServiceQuality  PurchaseFrequency FeedbackScore LoyaltyLevel  \\\n",
       "0                   8                  5           Low       Bronze   \n",
       "1                   2                  8        Medium         Gold   \n",
       "2                  10                 18        Medium       Silver   \n",
       "3                  10                 16           Low         Gold   \n",
       "4                   4                 13           Low       Bronze   \n",
       "...               ...                ...           ...          ...   \n",
       "38439               3                 14          High       Silver   \n",
       "38440              10                  1           Low       Silver   \n",
       "38441               9                  7        Medium       Bronze   \n",
       "38442               5                 16          High       Silver   \n",
       "38443               2                  8          High       Bronze   \n",
       "\n",
       "       SatisfactionScore  \n",
       "0                 100.00  \n",
       "1                 100.00  \n",
       "2                 100.00  \n",
       "3                 100.00  \n",
       "4                  82.00  \n",
       "...                  ...  \n",
       "38439              75.85  \n",
       "38440             100.00  \n",
       "38441             100.00  \n",
       "38442             100.00  \n",
       "38443              71.81  \n",
       "\n",
       "[38444 rows x 11 columns]"
      ]
     },
     "execution_count": 3,
     "metadata": {},
     "output_type": "execute_result"
    }
   ],
   "source": [
    "data"
   ]
  },
  {
   "cell_type": "code",
   "execution_count": 4,
   "metadata": {},
   "outputs": [
    {
     "data": {
      "text/plain": [
       "CustomerID           0\n",
       "Age                  0\n",
       "Gender               0\n",
       "Country              0\n",
       "Income               0\n",
       "ProductQuality       0\n",
       "ServiceQuality       0\n",
       "PurchaseFrequency    0\n",
       "FeedbackScore        0\n",
       "LoyaltyLevel         0\n",
       "SatisfactionScore    0\n",
       "dtype: int64"
      ]
     },
     "execution_count": 4,
     "metadata": {},
     "output_type": "execute_result"
    }
   ],
   "source": [
    "data.isnull().sum()"
   ]
  },
  {
   "cell_type": "code",
   "execution_count": 5,
   "metadata": {},
   "outputs": [
    {
     "data": {
      "text/plain": [
       "0"
      ]
     },
     "execution_count": 5,
     "metadata": {},
     "output_type": "execute_result"
    }
   ],
   "source": [
    "data.duplicated().sum()"
   ]
  },
  {
   "cell_type": "code",
   "execution_count": 6,
   "metadata": {},
   "outputs": [
    {
     "data": {
      "text/html": [
       "<div>\n",
       "<style scoped>\n",
       "    .dataframe tbody tr th:only-of-type {\n",
       "        vertical-align: middle;\n",
       "    }\n",
       "\n",
       "    .dataframe tbody tr th {\n",
       "        vertical-align: top;\n",
       "    }\n",
       "\n",
       "    .dataframe thead th {\n",
       "        text-align: right;\n",
       "    }\n",
       "</style>\n",
       "<table border=\"1\" class=\"dataframe\">\n",
       "  <thead>\n",
       "    <tr style=\"text-align: right;\">\n",
       "      <th></th>\n",
       "      <th>CustomerID</th>\n",
       "      <th>Age</th>\n",
       "      <th>Income</th>\n",
       "      <th>ProductQuality</th>\n",
       "      <th>ServiceQuality</th>\n",
       "      <th>PurchaseFrequency</th>\n",
       "      <th>SatisfactionScore</th>\n",
       "    </tr>\n",
       "  </thead>\n",
       "  <tbody>\n",
       "    <tr>\n",
       "      <th>count</th>\n",
       "      <td>38444.000000</td>\n",
       "      <td>38444.000000</td>\n",
       "      <td>38444.000000</td>\n",
       "      <td>38444.000000</td>\n",
       "      <td>38444.000000</td>\n",
       "      <td>38444.000000</td>\n",
       "      <td>38444.000000</td>\n",
       "    </tr>\n",
       "    <tr>\n",
       "      <th>mean</th>\n",
       "      <td>19222.500000</td>\n",
       "      <td>43.496853</td>\n",
       "      <td>75076.619238</td>\n",
       "      <td>5.494746</td>\n",
       "      <td>5.492769</td>\n",
       "      <td>10.453881</td>\n",
       "      <td>85.276409</td>\n",
       "    </tr>\n",
       "    <tr>\n",
       "      <th>std</th>\n",
       "      <td>11097.971211</td>\n",
       "      <td>14.972748</td>\n",
       "      <td>25975.752966</td>\n",
       "      <td>2.873192</td>\n",
       "      <td>2.875812</td>\n",
       "      <td>5.765621</td>\n",
       "      <td>16.898577</td>\n",
       "    </tr>\n",
       "    <tr>\n",
       "      <th>min</th>\n",
       "      <td>1.000000</td>\n",
       "      <td>18.000000</td>\n",
       "      <td>30001.000000</td>\n",
       "      <td>1.000000</td>\n",
       "      <td>1.000000</td>\n",
       "      <td>1.000000</td>\n",
       "      <td>4.280000</td>\n",
       "    </tr>\n",
       "    <tr>\n",
       "      <th>25%</th>\n",
       "      <td>9611.750000</td>\n",
       "      <td>31.000000</td>\n",
       "      <td>52624.500000</td>\n",
       "      <td>3.000000</td>\n",
       "      <td>3.000000</td>\n",
       "      <td>5.000000</td>\n",
       "      <td>74.470000</td>\n",
       "    </tr>\n",
       "    <tr>\n",
       "      <th>50%</th>\n",
       "      <td>19222.500000</td>\n",
       "      <td>43.000000</td>\n",
       "      <td>75236.000000</td>\n",
       "      <td>5.000000</td>\n",
       "      <td>5.000000</td>\n",
       "      <td>10.000000</td>\n",
       "      <td>91.270000</td>\n",
       "    </tr>\n",
       "    <tr>\n",
       "      <th>75%</th>\n",
       "      <td>28833.250000</td>\n",
       "      <td>56.000000</td>\n",
       "      <td>97606.750000</td>\n",
       "      <td>8.000000</td>\n",
       "      <td>8.000000</td>\n",
       "      <td>15.000000</td>\n",
       "      <td>100.000000</td>\n",
       "    </tr>\n",
       "    <tr>\n",
       "      <th>max</th>\n",
       "      <td>38444.000000</td>\n",
       "      <td>69.000000</td>\n",
       "      <td>119999.000000</td>\n",
       "      <td>10.000000</td>\n",
       "      <td>10.000000</td>\n",
       "      <td>20.000000</td>\n",
       "      <td>100.000000</td>\n",
       "    </tr>\n",
       "  </tbody>\n",
       "</table>\n",
       "</div>"
      ],
      "text/plain": [
       "         CustomerID           Age         Income  ProductQuality  \\\n",
       "count  38444.000000  38444.000000   38444.000000    38444.000000   \n",
       "mean   19222.500000     43.496853   75076.619238        5.494746   \n",
       "std    11097.971211     14.972748   25975.752966        2.873192   \n",
       "min        1.000000     18.000000   30001.000000        1.000000   \n",
       "25%     9611.750000     31.000000   52624.500000        3.000000   \n",
       "50%    19222.500000     43.000000   75236.000000        5.000000   \n",
       "75%    28833.250000     56.000000   97606.750000        8.000000   \n",
       "max    38444.000000     69.000000  119999.000000       10.000000   \n",
       "\n",
       "       ServiceQuality  PurchaseFrequency  SatisfactionScore  \n",
       "count    38444.000000       38444.000000       38444.000000  \n",
       "mean         5.492769          10.453881          85.276409  \n",
       "std          2.875812           5.765621          16.898577  \n",
       "min          1.000000           1.000000           4.280000  \n",
       "25%          3.000000           5.000000          74.470000  \n",
       "50%          5.000000          10.000000          91.270000  \n",
       "75%          8.000000          15.000000         100.000000  \n",
       "max         10.000000          20.000000         100.000000  "
      ]
     },
     "execution_count": 6,
     "metadata": {},
     "output_type": "execute_result"
    }
   ],
   "source": [
    "data.describe()  # we can see there no outlier in this data"
   ]
  },
  {
   "cell_type": "markdown",
   "metadata": {},
   "source": [
    "## Age"
   ]
  },
  {
   "cell_type": "code",
   "execution_count": 7,
   "metadata": {},
   "outputs": [
    {
     "data": {
      "image/png": "[encoded data removed]",
      "text/plain": [
       "<Figure size 640x480 with 1 Axes>"
      ]
     },
     "metadata": {},
     "output_type": "display_data"
    }
   ],
   "source": [
    "sns.histplot(data=data,x=data['Age'],bins=35)\n",
    "plt.show()"
   ]
  },
  {
   "cell_type": "markdown",
   "metadata": {},
   "source": [
    "##### Almost All age people come to gym equally"
   ]
  },
  {
   "cell_type": "markdown",
   "metadata": {},
   "source": [
    "## Gender"
   ]
  },
  {
   "cell_type": "code",
   "execution_count": 8,
   "metadata": {},
   "outputs": [
    {
     "data": {
      "image/png": "[encoded data removed]",
      "text/plain": [
       "<Figure size 640x480 with 1 Axes>"
      ]
     },
     "metadata": {},
     "output_type": "display_data"
    }
   ],
   "source": [
    "val = data['Gender'].value_counts()\n",
    "sns.barplot(x = data['Gender'].unique() , y = data['Gender'].value_counts(),hue=data['Gender'].unique())\n",
    "for index , value in enumerate(val):\n",
    "    plt.text(index,value,str(value),ha = 'center',va='bottom')\n",
    "plt.show()"
   ]
  },
  {
   "cell_type": "code",
   "execution_count": 9,
   "metadata": {},
   "outputs": [
    {
     "data": {
      "text/plain": [
       "<Figure size 9000x9000 with 0 Axes>"
      ]
     },
     "metadata": {},
     "output_type": "display_data"
    },
    {
     "data": {
      "image/png": "[encoded data removed]",
      "text/plain": [
       "<Figure size 640x480 with 1 Axes>"
      ]
     },
     "metadata": {},
     "output_type": "display_data"
    }
   ],
   "source": [
    "plt.figure(figsize=(90,90))\n",
    "data.groupby(['Gender','FeedbackScore']).size().unstack().plot(kind='bar',stacked=True)\n",
    "plt.xticks(rotation='horizontal')\n",
    "plt.show()"
   ]
  },
  {
   "cell_type": "markdown",
   "metadata": {},
   "source": [
    "## Country"
   ]
  },
  {
   "cell_type": "code",
   "execution_count": 10,
   "metadata": {},
   "outputs": [
    {
     "data": {
      "text/plain": [
       "Index(['CustomerID', 'Age', 'Gender', 'Country', 'Income', 'ProductQuality',\n",
       "       'ServiceQuality', 'PurchaseFrequency', 'FeedbackScore', 'LoyaltyLevel',\n",
       "       'SatisfactionScore'],\n",
       "      dtype='object')"
      ]
     },
     "execution_count": 10,
     "metadata": {},
     "output_type": "execute_result"
    }
   ],
   "source": [
    "data.columns"
   ]
  },
  {
   "cell_type": "code",
   "execution_count": 11,
   "metadata": {},
   "outputs": [
    {
     "data": {
      "image/png": "[encoded data removed]",
      "text/plain": [
       "<Figure size 1600x1000 with 4 Axes>"
      ]
     },
     "metadata": {},
     "output_type": "display_data"
    }
   ],
   "source": [
    "columns = ['Gender','FeedbackScore','LoyaltyLevel']\n",
    "fig, axes = plt.subplots(nrows=2, ncols=2, figsize=(16, 10))\n",
    "axes = axes.flatten()\n",
    "for index , value in enumerate(columns):\n",
    "    data.groupby(['Country',value]).size().unstack().plot(kind='bar',stacked=True,ax = axes[index])\n",
    "    axes[index].tick_params(axis='x', rotation=0)\n",
    "plt.tight_layout()\n",
    "plt.show()\n",
    "    "
   ]
  },
  {
   "cell_type": "code",
   "execution_count": 12,
   "metadata": {},
   "outputs": [
    {
     "data": {
      "text/html": [
       "<div>\n",
       "<style scoped>\n",
       "    .dataframe tbody tr th:only-of-type {\n",
       "        vertical-align: middle;\n",
       "    }\n",
       "\n",
       "    .dataframe tbody tr th {\n",
       "        vertical-align: top;\n",
       "    }\n",
       "\n",
       "    .dataframe thead th {\n",
       "        text-align: right;\n",
       "    }\n",
       "</style>\n",
       "<table border=\"1\" class=\"dataframe\">\n",
       "  <thead>\n",
       "    <tr style=\"text-align: right;\">\n",
       "      <th></th>\n",
       "      <th>CustomerID</th>\n",
       "      <th>Age</th>\n",
       "      <th>Gender</th>\n",
       "      <th>Country</th>\n",
       "      <th>Income</th>\n",
       "      <th>ProductQuality</th>\n",
       "      <th>ServiceQuality</th>\n",
       "      <th>PurchaseFrequency</th>\n",
       "      <th>FeedbackScore</th>\n",
       "      <th>LoyaltyLevel</th>\n",
       "      <th>SatisfactionScore</th>\n",
       "    </tr>\n",
       "  </thead>\n",
       "  <tbody>\n",
       "    <tr>\n",
       "      <th>0</th>\n",
       "      <td>1</td>\n",
       "      <td>56</td>\n",
       "      <td>Male</td>\n",
       "      <td>UK</td>\n",
       "      <td>83094</td>\n",
       "      <td>5</td>\n",
       "      <td>8</td>\n",
       "      <td>5</td>\n",
       "      <td>Low</td>\n",
       "      <td>Bronze</td>\n",
       "      <td>100.0</td>\n",
       "    </tr>\n",
       "    <tr>\n",
       "      <th>1</th>\n",
       "      <td>2</td>\n",
       "      <td>69</td>\n",
       "      <td>Male</td>\n",
       "      <td>UK</td>\n",
       "      <td>86860</td>\n",
       "      <td>10</td>\n",
       "      <td>2</td>\n",
       "      <td>8</td>\n",
       "      <td>Medium</td>\n",
       "      <td>Gold</td>\n",
       "      <td>100.0</td>\n",
       "    </tr>\n",
       "    <tr>\n",
       "      <th>2</th>\n",
       "      <td>3</td>\n",
       "      <td>46</td>\n",
       "      <td>Female</td>\n",
       "      <td>USA</td>\n",
       "      <td>60173</td>\n",
       "      <td>8</td>\n",
       "      <td>10</td>\n",
       "      <td>18</td>\n",
       "      <td>Medium</td>\n",
       "      <td>Silver</td>\n",
       "      <td>100.0</td>\n",
       "    </tr>\n",
       "  </tbody>\n",
       "</table>\n",
       "</div>"
      ],
      "text/plain": [
       "   CustomerID  Age  Gender Country  Income  ProductQuality  ServiceQuality  \\\n",
       "0           1   56    Male      UK   83094               5               8   \n",
       "1           2   69    Male      UK   86860              10               2   \n",
       "2           3   46  Female     USA   60173               8              10   \n",
       "\n",
       "   PurchaseFrequency FeedbackScore LoyaltyLevel  SatisfactionScore  \n",
       "0                  5           Low       Bronze              100.0  \n",
       "1                  8        Medium         Gold              100.0  \n",
       "2                 18        Medium       Silver              100.0  "
      ]
     },
     "execution_count": 12,
     "metadata": {},
     "output_type": "execute_result"
    }
   ],
   "source": [
    "data.head(3)"
   ]
  },
  {
   "cell_type": "markdown",
   "metadata": {},
   "source": [
    "# Encoding"
   ]
  },
  {
   "cell_type": "code",
   "execution_count": 13,
   "metadata": {},
   "outputs": [],
   "source": [
    "label = LabelEncoder()\n",
    "data['Gender'] = label.fit_transform(data['Gender'])\n",
    "data['Country'] = label.fit_transform(data['Country'])\n",
    "data['FeedbackScore'] = label.fit_transform(data['FeedbackScore'])\n",
    "data['LoyaltyLevel'] = label.fit_transform(data['LoyaltyLevel'])\n"
   ]
  },
  {
   "cell_type": "code",
   "execution_count": 14,
   "metadata": {},
   "outputs": [
    {
     "data": {
      "text/html": [
       "<div>\n",
       "<style scoped>\n",
       "    .dataframe tbody tr th:only-of-type {\n",
       "        vertical-align: middle;\n",
       "    }\n",
       "\n",
       "    .dataframe tbody tr th {\n",
       "        vertical-align: top;\n",
       "    }\n",
       "\n",
       "    .dataframe thead th {\n",
       "        text-align: right;\n",
       "    }\n",
       "</style>\n",
       "<table border=\"1\" class=\"dataframe\">\n",
       "  <thead>\n",
       "    <tr style=\"text-align: right;\">\n",
       "      <th></th>\n",
       "      <th>CustomerID</th>\n",
       "      <th>Age</th>\n",
       "      <th>Gender</th>\n",
       "      <th>Country</th>\n",
       "      <th>Income</th>\n",
       "      <th>ProductQuality</th>\n",
       "      <th>ServiceQuality</th>\n",
       "      <th>PurchaseFrequency</th>\n",
       "      <th>FeedbackScore</th>\n",
       "      <th>LoyaltyLevel</th>\n",
       "      <th>SatisfactionScore</th>\n",
       "    </tr>\n",
       "  </thead>\n",
       "  <tbody>\n",
       "    <tr>\n",
       "      <th>0</th>\n",
       "      <td>1</td>\n",
       "      <td>56</td>\n",
       "      <td>1</td>\n",
       "      <td>3</td>\n",
       "      <td>83094</td>\n",
       "      <td>5</td>\n",
       "      <td>8</td>\n",
       "      <td>5</td>\n",
       "      <td>1</td>\n",
       "      <td>0</td>\n",
       "      <td>100.00</td>\n",
       "    </tr>\n",
       "    <tr>\n",
       "      <th>1</th>\n",
       "      <td>2</td>\n",
       "      <td>69</td>\n",
       "      <td>1</td>\n",
       "      <td>3</td>\n",
       "      <td>86860</td>\n",
       "      <td>10</td>\n",
       "      <td>2</td>\n",
       "      <td>8</td>\n",
       "      <td>2</td>\n",
       "      <td>1</td>\n",
       "      <td>100.00</td>\n",
       "    </tr>\n",
       "    <tr>\n",
       "      <th>2</th>\n",
       "      <td>3</td>\n",
       "      <td>46</td>\n",
       "      <td>0</td>\n",
       "      <td>4</td>\n",
       "      <td>60173</td>\n",
       "      <td>8</td>\n",
       "      <td>10</td>\n",
       "      <td>18</td>\n",
       "      <td>2</td>\n",
       "      <td>2</td>\n",
       "      <td>100.00</td>\n",
       "    </tr>\n",
       "    <tr>\n",
       "      <th>3</th>\n",
       "      <td>4</td>\n",
       "      <td>32</td>\n",
       "      <td>0</td>\n",
       "      <td>3</td>\n",
       "      <td>73884</td>\n",
       "      <td>7</td>\n",
       "      <td>10</td>\n",
       "      <td>16</td>\n",
       "      <td>1</td>\n",
       "      <td>1</td>\n",
       "      <td>100.00</td>\n",
       "    </tr>\n",
       "    <tr>\n",
       "      <th>4</th>\n",
       "      <td>5</td>\n",
       "      <td>60</td>\n",
       "      <td>1</td>\n",
       "      <td>3</td>\n",
       "      <td>97546</td>\n",
       "      <td>6</td>\n",
       "      <td>4</td>\n",
       "      <td>13</td>\n",
       "      <td>1</td>\n",
       "      <td>0</td>\n",
       "      <td>82.00</td>\n",
       "    </tr>\n",
       "    <tr>\n",
       "      <th>...</th>\n",
       "      <td>...</td>\n",
       "      <td>...</td>\n",
       "      <td>...</td>\n",
       "      <td>...</td>\n",
       "      <td>...</td>\n",
       "      <td>...</td>\n",
       "      <td>...</td>\n",
       "      <td>...</td>\n",
       "      <td>...</td>\n",
       "      <td>...</td>\n",
       "      <td>...</td>\n",
       "    </tr>\n",
       "    <tr>\n",
       "      <th>38439</th>\n",
       "      <td>38440</td>\n",
       "      <td>55</td>\n",
       "      <td>0</td>\n",
       "      <td>4</td>\n",
       "      <td>80880</td>\n",
       "      <td>6</td>\n",
       "      <td>3</td>\n",
       "      <td>14</td>\n",
       "      <td>0</td>\n",
       "      <td>2</td>\n",
       "      <td>75.85</td>\n",
       "    </tr>\n",
       "    <tr>\n",
       "      <th>38440</th>\n",
       "      <td>38441</td>\n",
       "      <td>44</td>\n",
       "      <td>1</td>\n",
       "      <td>0</td>\n",
       "      <td>42845</td>\n",
       "      <td>5</td>\n",
       "      <td>10</td>\n",
       "      <td>1</td>\n",
       "      <td>1</td>\n",
       "      <td>2</td>\n",
       "      <td>100.00</td>\n",
       "    </tr>\n",
       "    <tr>\n",
       "      <th>38441</th>\n",
       "      <td>38442</td>\n",
       "      <td>43</td>\n",
       "      <td>0</td>\n",
       "      <td>4</td>\n",
       "      <td>71433</td>\n",
       "      <td>7</td>\n",
       "      <td>9</td>\n",
       "      <td>7</td>\n",
       "      <td>2</td>\n",
       "      <td>0</td>\n",
       "      <td>100.00</td>\n",
       "    </tr>\n",
       "    <tr>\n",
       "      <th>38442</th>\n",
       "      <td>38443</td>\n",
       "      <td>28</td>\n",
       "      <td>0</td>\n",
       "      <td>4</td>\n",
       "      <td>105587</td>\n",
       "      <td>7</td>\n",
       "      <td>5</td>\n",
       "      <td>16</td>\n",
       "      <td>0</td>\n",
       "      <td>2</td>\n",
       "      <td>100.00</td>\n",
       "    </tr>\n",
       "    <tr>\n",
       "      <th>38443</th>\n",
       "      <td>38444</td>\n",
       "      <td>64</td>\n",
       "      <td>0</td>\n",
       "      <td>0</td>\n",
       "      <td>105379</td>\n",
       "      <td>2</td>\n",
       "      <td>2</td>\n",
       "      <td>8</td>\n",
       "      <td>0</td>\n",
       "      <td>0</td>\n",
       "      <td>71.81</td>\n",
       "    </tr>\n",
       "  </tbody>\n",
       "</table>\n",
       "<p>38444 rows × 11 columns</p>\n",
       "</div>"
      ],
      "text/plain": [
       "       CustomerID  Age  Gender  Country  Income  ProductQuality  \\\n",
       "0               1   56       1        3   83094               5   \n",
       "1               2   69       1        3   86860              10   \n",
       "2               3   46       0        4   60173               8   \n",
       "3               4   32       0        3   73884               7   \n",
       "4               5   60       1        3   97546               6   \n",
       "...           ...  ...     ...      ...     ...             ...   \n",
       "38439       38440   55       0        4   80880               6   \n",
       "38440       38441   44       1        0   42845               5   \n",
       "38441       38442   43       0        4   71433               7   \n",
       "38442       38443   28       0        4  105587               7   \n",
       "38443       38444   64       0        0  105379               2   \n",
       "\n",
       "       ServiceQuality  PurchaseFrequency  FeedbackScore  LoyaltyLevel  \\\n",
       "0                   8                  5              1             0   \n",
       "1                   2                  8              2             1   \n",
       "2                  10                 18              2             2   \n",
       "3                  10                 16              1             1   \n",
       "4                   4                 13              1             0   \n",
       "...               ...                ...            ...           ...   \n",
       "38439               3                 14              0             2   \n",
       "38440              10                  1              1             2   \n",
       "38441               9                  7              2             0   \n",
       "38442               5                 16              0             2   \n",
       "38443               2                  8              0             0   \n",
       "\n",
       "       SatisfactionScore  \n",
       "0                 100.00  \n",
       "1                 100.00  \n",
       "2                 100.00  \n",
       "3                 100.00  \n",
       "4                  82.00  \n",
       "...                  ...  \n",
       "38439              75.85  \n",
       "38440             100.00  \n",
       "38441             100.00  \n",
       "38442             100.00  \n",
       "38443              71.81  \n",
       "\n",
       "[38444 rows x 11 columns]"
      ]
     },
     "execution_count": 14,
     "metadata": {},
     "output_type": "execute_result"
    }
   ],
   "source": [
    "data"
   ]
  },
  {
   "cell_type": "code",
   "execution_count": 15,
   "metadata": {},
   "outputs": [],
   "source": [
    "data.drop(columns=['CustomerID'],inplace=True)"
   ]
  },
  {
   "cell_type": "code",
   "execution_count": 16,
   "metadata": {},
   "outputs": [
    {
     "data": {
      "image/png": "[encoded data removed]",
      "text/plain": [
       "<Figure size 1700x800 with 2 Axes>"
      ]
     },
     "metadata": {},
     "output_type": "display_data"
    }
   ],
   "source": [
    "plt.figure(figsize=(17,8))\n",
    "correlation_matrix = data.corr()\n",
    "sns.heatmap(correlation_matrix, annot=True, cmap=\"coolwarm\")\n",
    "plt.show()"
   ]
  },
  {
   "cell_type": "code",
   "execution_count": 17,
   "metadata": {},
   "outputs": [
    {
     "data": {
      "text/html": [
       "<div>\n",
       "<style scoped>\n",
       "    .dataframe tbody tr th:only-of-type {\n",
       "        vertical-align: middle;\n",
       "    }\n",
       "\n",
       "    .dataframe tbody tr th {\n",
       "        vertical-align: top;\n",
       "    }\n",
       "\n",
       "    .dataframe thead th {\n",
       "        text-align: right;\n",
       "    }\n",
       "</style>\n",
       "<table border=\"1\" class=\"dataframe\">\n",
       "  <thead>\n",
       "    <tr style=\"text-align: right;\">\n",
       "      <th></th>\n",
       "      <th>Age</th>\n",
       "      <th>Gender</th>\n",
       "      <th>Country</th>\n",
       "      <th>Income</th>\n",
       "      <th>ProductQuality</th>\n",
       "      <th>ServiceQuality</th>\n",
       "      <th>PurchaseFrequency</th>\n",
       "      <th>FeedbackScore</th>\n",
       "      <th>LoyaltyLevel</th>\n",
       "      <th>SatisfactionScore</th>\n",
       "    </tr>\n",
       "  </thead>\n",
       "  <tbody>\n",
       "    <tr>\n",
       "      <th>0</th>\n",
       "      <td>56</td>\n",
       "      <td>1</td>\n",
       "      <td>3</td>\n",
       "      <td>83094</td>\n",
       "      <td>5</td>\n",
       "      <td>8</td>\n",
       "      <td>5</td>\n",
       "      <td>1</td>\n",
       "      <td>0</td>\n",
       "      <td>100.0</td>\n",
       "    </tr>\n",
       "  </tbody>\n",
       "</table>\n",
       "</div>"
      ],
      "text/plain": [
       "   Age  Gender  Country  Income  ProductQuality  ServiceQuality  \\\n",
       "0   56       1        3   83094               5               8   \n",
       "\n",
       "   PurchaseFrequency  FeedbackScore  LoyaltyLevel  SatisfactionScore  \n",
       "0                  5              1             0              100.0  "
      ]
     },
     "execution_count": 17,
     "metadata": {},
     "output_type": "execute_result"
    }
   ],
   "source": [
    "data.head(1)"
   ]
  },
  {
   "cell_type": "code",
   "execution_count": 18,
   "metadata": {},
   "outputs": [],
   "source": [
    "x = data.drop(columns=['SatisfactionScore','Gender','Country','FeedbackScore','LoyaltyLevel'])\n",
    "y = data['SatisfactionScore']"
   ]
  },
  {
   "cell_type": "code",
   "execution_count": null,
   "metadata": {},
   "outputs": [],
   "source": []
  },
  {
   "cell_type": "code",
   "execution_count": 19,
   "metadata": {},
   "outputs": [
    {
     "data": {
      "text/plain": [
       "PurchaseFrequency\n",
       "7     1998\n",
       "5     1978\n",
       "12    1971\n",
       "2     1958\n",
       "1     1948\n",
       "11    1946\n",
       "17    1932\n",
       "15    1930\n",
       "6     1930\n",
       "16    1924\n",
       "8     1923\n",
       "3     1923\n",
       "4     1902\n",
       "18    1899\n",
       "13    1888\n",
       "20    1887\n",
       "19    1887\n",
       "14    1881\n",
       "9     1871\n",
       "10    1868\n",
       "Name: count, dtype: int64"
      ]
     },
     "execution_count": 19,
     "metadata": {},
     "output_type": "execute_result"
    }
   ],
   "source": [
    "x['PurchaseFrequency'].value_counts()"
   ]
  },
  {
   "cell_type": "code",
   "execution_count": 20,
   "metadata": {},
   "outputs": [
    {
     "data": {
      "text/html": [
       "<div>\n",
       "<style scoped>\n",
       "    .dataframe tbody tr th:only-of-type {\n",
       "        vertical-align: middle;\n",
       "    }\n",
       "\n",
       "    .dataframe tbody tr th {\n",
       "        vertical-align: top;\n",
       "    }\n",
       "\n",
       "    .dataframe thead th {\n",
       "        text-align: right;\n",
       "    }\n",
       "</style>\n",
       "<table border=\"1\" class=\"dataframe\">\n",
       "  <thead>\n",
       "    <tr style=\"text-align: right;\">\n",
       "      <th></th>\n",
       "      <th>Age</th>\n",
       "      <th>Income</th>\n",
       "      <th>ProductQuality</th>\n",
       "      <th>ServiceQuality</th>\n",
       "      <th>PurchaseFrequency</th>\n",
       "    </tr>\n",
       "  </thead>\n",
       "  <tbody>\n",
       "    <tr>\n",
       "      <th>0</th>\n",
       "      <td>56</td>\n",
       "      <td>83094</td>\n",
       "      <td>5</td>\n",
       "      <td>8</td>\n",
       "      <td>5</td>\n",
       "    </tr>\n",
       "    <tr>\n",
       "      <th>1</th>\n",
       "      <td>69</td>\n",
       "      <td>86860</td>\n",
       "      <td>10</td>\n",
       "      <td>2</td>\n",
       "      <td>8</td>\n",
       "    </tr>\n",
       "    <tr>\n",
       "      <th>2</th>\n",
       "      <td>46</td>\n",
       "      <td>60173</td>\n",
       "      <td>8</td>\n",
       "      <td>10</td>\n",
       "      <td>18</td>\n",
       "    </tr>\n",
       "    <tr>\n",
       "      <th>3</th>\n",
       "      <td>32</td>\n",
       "      <td>73884</td>\n",
       "      <td>7</td>\n",
       "      <td>10</td>\n",
       "      <td>16</td>\n",
       "    </tr>\n",
       "    <tr>\n",
       "      <th>4</th>\n",
       "      <td>60</td>\n",
       "      <td>97546</td>\n",
       "      <td>6</td>\n",
       "      <td>4</td>\n",
       "      <td>13</td>\n",
       "    </tr>\n",
       "    <tr>\n",
       "      <th>...</th>\n",
       "      <td>...</td>\n",
       "      <td>...</td>\n",
       "      <td>...</td>\n",
       "      <td>...</td>\n",
       "      <td>...</td>\n",
       "    </tr>\n",
       "    <tr>\n",
       "      <th>38439</th>\n",
       "      <td>55</td>\n",
       "      <td>80880</td>\n",
       "      <td>6</td>\n",
       "      <td>3</td>\n",
       "      <td>14</td>\n",
       "    </tr>\n",
       "    <tr>\n",
       "      <th>38440</th>\n",
       "      <td>44</td>\n",
       "      <td>42845</td>\n",
       "      <td>5</td>\n",
       "      <td>10</td>\n",
       "      <td>1</td>\n",
       "    </tr>\n",
       "    <tr>\n",
       "      <th>38441</th>\n",
       "      <td>43</td>\n",
       "      <td>71433</td>\n",
       "      <td>7</td>\n",
       "      <td>9</td>\n",
       "      <td>7</td>\n",
       "    </tr>\n",
       "    <tr>\n",
       "      <th>38442</th>\n",
       "      <td>28</td>\n",
       "      <td>105587</td>\n",
       "      <td>7</td>\n",
       "      <td>5</td>\n",
       "      <td>16</td>\n",
       "    </tr>\n",
       "    <tr>\n",
       "      <th>38443</th>\n",
       "      <td>64</td>\n",
       "      <td>105379</td>\n",
       "      <td>2</td>\n",
       "      <td>2</td>\n",
       "      <td>8</td>\n",
       "    </tr>\n",
       "  </tbody>\n",
       "</table>\n",
       "<p>38444 rows × 5 columns</p>\n",
       "</div>"
      ],
      "text/plain": [
       "       Age  Income  ProductQuality  ServiceQuality  PurchaseFrequency\n",
       "0       56   83094               5               8                  5\n",
       "1       69   86860              10               2                  8\n",
       "2       46   60173               8              10                 18\n",
       "3       32   73884               7              10                 16\n",
       "4       60   97546               6               4                 13\n",
       "...    ...     ...             ...             ...                ...\n",
       "38439   55   80880               6               3                 14\n",
       "38440   44   42845               5              10                  1\n",
       "38441   43   71433               7               9                  7\n",
       "38442   28  105587               7               5                 16\n",
       "38443   64  105379               2               2                  8\n",
       "\n",
       "[38444 rows x 5 columns]"
      ]
     },
     "execution_count": 20,
     "metadata": {},
     "output_type": "execute_result"
    }
   ],
   "source": [
    "x"
   ]
  },
  {
   "cell_type": "code",
   "execution_count": 21,
   "metadata": {},
   "outputs": [],
   "source": [
    "X_train,X_test,Y_train,Y_test = train_test_split(x,y,test_size=0.2,random_state=56)"
   ]
  },
  {
   "cell_type": "markdown",
   "metadata": {},
   "source": [
    "## Linear Regression"
   ]
  },
  {
   "cell_type": "code",
   "execution_count": 22,
   "metadata": {},
   "outputs": [
    {
     "name": "stdout",
     "output_type": "stream",
     "text": [
      "mean_absolute_error : 7.38\n",
      "mean_squared_error : 85.48\n",
      "r2_score : 0.70\n"
     ]
    }
   ],
   "source": [
    "model = LinearRegression()\n",
    "model.fit(X_train,Y_train)\n",
    "\n",
    "Y_pred = model.predict(X_test)\n",
    "\n",
    "mae = mean_absolute_error(Y_test,Y_pred)\n",
    "mse = mean_squared_error(Y_test,Y_pred)\n",
    "r2 = r2_score(Y_test,Y_pred)\n",
    "\n",
    "print(f'mean_absolute_error : {mae:.2f}')\n",
    "print(f'mean_squared_error : {mse:.2f}')\n",
    "print(f'r2_score : {r2:.2f}')"
   ]
  },
  {
   "cell_type": "markdown",
   "metadata": {},
   "source": [
    "## Decision Tree"
   ]
  },
  {
   "cell_type": "code",
   "execution_count": 23,
   "metadata": {},
   "outputs": [],
   "source": [
    "# model = DecisionTreeRegressor()\n",
    "# param_grid = {\n",
    "#     'max_depth': [None, 5, 10, 15, 20, 25, 30],\n",
    "#     'min_samples_split': [2, 5, 10, 15, 20],\n",
    "#     'min_samples_leaf': [1, 2, 4, 6, 8, 10],\n",
    "#     'max_leaf_nodes': [None, 10, 20, 30, 40, 50]\n",
    "# }\n",
    "# grid = GridSearchCV(estimator=model,param_grid=param_grid,n_jobs=-1,cv=5)\n",
    "# grid.fit(X_train,Y_train)\n",
    "\n",
    "# best_perameters = grid.best_params_\n",
    "# print(best_perameters)"
   ]
  },
  {
   "cell_type": "code",
   "execution_count": 24,
   "metadata": {},
   "outputs": [
    {
     "name": "stdout",
     "output_type": "stream",
     "text": [
      "mean_absolute_error : 5.87\n",
      "mean_squared_error : 71.33\n",
      "r2_score : 0.75\n",
      "Cross-validation scores :  0.7471918308272499\n"
     ]
    }
   ],
   "source": [
    "model = DecisionTreeRegressor(criterion='squared_error',max_depth= 9, min_samples_leaf= 10, min_samples_split= 15)\n",
    "model.fit(X_train,Y_train)\n",
    "\n",
    "Y_pred = model.predict(X_test)\n",
    "\n",
    "scores = cross_val_score(model, x, y, cv=5)\n",
    "\n",
    "mae = mean_absolute_error(Y_test,Y_pred)\n",
    "mse = mean_squared_error(Y_test,Y_pred)\n",
    "r2 = r2_score(Y_test,Y_pred)\n",
    "\n",
    "print(f'mean_absolute_error : {mae:.2f}')\n",
    "print(f'mean_squared_error : {mse:.2f}')\n",
    "print(f'r2_score : {r2:.2f}')\n",
    "print(\"Cross-validation scores : \", scores.mean())"
   ]
  },
  {
   "cell_type": "markdown",
   "metadata": {},
   "source": [
    "## Random Forest"
   ]
  },
  {
   "cell_type": "code",
   "execution_count": 25,
   "metadata": {},
   "outputs": [],
   "source": [
    "# param_grid = {            \n",
    "#     'max_depth': [None, 6,10,8,12,15],        \n",
    "#     'min_samples_split': [8,10,15,18],              \n",
    "#     'min_samples_leaf': [4,8,10],                        \n",
    "# }\n",
    "\n",
    "# # Initialize the model\n",
    "# rf_model = RandomForestRegressor(random_state=42)\n",
    "\n",
    "# # Initialize GridSearchCV\n",
    "# grid_search = GridSearchCV(estimator=rf_model, param_grid=param_grid, scoring='neg_mean_squared_error', verbose=2, n_jobs=-1)\n",
    "\n",
    "# # Fit the grid search to the data\n",
    "# grid_search.fit(X_train, Y_train)\n",
    "\n",
    "# # Display the best parameters and best score\n",
    "# print(\"Best Parameters:\", grid_search.best_params_)\n",
    "# print(\"Best Score:\", grid_search.best_score_)"
   ]
  },
  {
   "cell_type": "code",
   "execution_count": 76,
   "metadata": {},
   "outputs": [
    {
     "name": "stdout",
     "output_type": "stream",
     "text": [
      "mean_absolute_error : 5.49\n",
      "mean_squared_error : 62.04\n",
      "r2_score : 0.78\n"
     ]
    }
   ],
   "source": [
    "model = RandomForestRegressor(n_estimators=150,max_depth= 10, min_samples_leaf= 2, min_samples_split= 3,random_state=42)\n",
    "model.fit(X_train,Y_train)\n",
    "\n",
    "Y_pred = model.predict(X_test)\n",
    "\n",
    "# scores = cross_val_score(model, x, y, cv=5)\n",
    "\n",
    "mae = mean_absolute_error(Y_test,Y_pred)\n",
    "mse = mean_squared_error(Y_test,Y_pred)\n",
    "r2 = r2_score(Y_test,Y_pred)\n",
    "\n",
    "print(f'mean_absolute_error : {mae:.2f}')\n",
    "print(f'mean_squared_error : {mse:.2f}')\n",
    "print(f'r2_score : {r2:.2f}')\n",
    "# print(\"Cross-validation scores : \", scores.mean())"
   ]
  },
  {
   "cell_type": "markdown",
   "metadata": {},
   "source": [
    "## Gradien Boost"
   ]
  },
  {
   "cell_type": "code",
   "execution_count": 66,
   "metadata": {},
   "outputs": [
    {
     "name": "stdout",
     "output_type": "stream",
     "text": [
      "mean_absolute_error : 5.53\n",
      "mean_squared_error : 59.40\n",
      "r2_score : 0.79\n"
     ]
    }
   ],
   "source": [
    "model = GradientBoostingRegressor(n_estimators=150,learning_rate=0.1,max_depth=4,min_samples_leaf=3,min_samples_split=2)\n",
    "model.fit(X_train,Y_train)\n",
    "\n",
    "Y_pred = model.predict(X_test)\n",
    "\n",
    "#scores = cross_val_score(model, x, y, cv=5)\n",
    "\n",
    "mae = mean_absolute_error(Y_test,Y_pred)\n",
    "mse = mean_squared_error(Y_test,Y_pred)\n",
    "r2 = r2_score(Y_test,Y_pred)\n",
    "\n",
    "print(f'mean_absolute_error : {mae:.2f}')\n",
    "print(f'mean_squared_error : {mse:.2f}')\n",
    "print(f'r2_score : {r2:.2f}')\n",
    "#print(\"Cross-validation scores : \", scores.mean())"
   ]
  },
  {
   "cell_type": "markdown",
   "metadata": {},
   "source": [
    "## Light Gradient Boosting"
   ]
  },
  {
   "cell_type": "code",
   "execution_count": 28,
   "metadata": {},
   "outputs": [
    {
     "name": "stdout",
     "output_type": "stream",
     "text": [
      "[LightGBM] [Info] Auto-choosing row-wise multi-threading, the overhead of testing was 0.002004 seconds.\n",
      "You can set `force_row_wise=true` to remove the overhead.\n",
      "And if memory is not enough, you can set `force_col_wise=true`.\n",
      "[LightGBM] [Info] Total Bins 351\n",
      "[LightGBM] [Info] Number of data points in the train set: 30755, number of used features: 5\n",
      "[LightGBM] [Info] Start training from score 85.230099\n",
      "mean_absolute_error : 5.45\n",
      "mean_squared_error : 59.68\n",
      "r2_score : 0.79\n"
     ]
    }
   ],
   "source": [
    "import lightgbm as lgb\n",
    "\n",
    "# Define the parameters for the regression model\n",
    "params = {\n",
    "    'objective': 'regression',      # Set the objective to 'regression' for regression tasks\n",
    "    'metric': 'l2',                 # Use L2 (Mean Squared Error) for regression\n",
    "    'boosting_type': 'gbdt',        # Specify the boosting type (Gradient Boosting Decision Tree)\n",
    "    'num_leaves': 31,               # Set the number of leaves in each tree\n",
    "    'learning_rate': 0.05,          # Define the learning rate\n",
    "    'feature_fraction': 0.9         # Fraction of features to consider for each iteration\n",
    "}\n",
    "\n",
    "# Define your training and testing data\n",
    "train_data = lgb.Dataset(X_train, label=Y_train)\n",
    "test_data = lgb.Dataset(X_test, label=Y_test)\n",
    "\n",
    "# Train the model with early stopping\n",
    "num_rounds = 100\n",
    "model = lgb.train(params, train_data, num_rounds, valid_sets=[test_data], valid_names=['test'])\n",
    "\n",
    "mae = mean_absolute_error(Y_test,Y_pred)\n",
    "mse = mean_squared_error(Y_test,Y_pred)\n",
    "r2 = r2_score(Y_test,Y_pred)\n",
    "\n",
    "print(f'mean_absolute_error : {mae:.2f}')\n",
    "print(f'mean_squared_error : {mse:.2f}')\n",
    "print(f'r2_score : {r2:.2f}')\n"
   ]
  },
  {
   "cell_type": "markdown",
   "metadata": {},
   "source": [
    "## Xgboost"
   ]
  },
  {
   "cell_type": "code",
   "execution_count": 29,
   "metadata": {},
   "outputs": [
    {
     "name": "stdout",
     "output_type": "stream",
     "text": [
      "mean_absolute_error : 5.46\n",
      "mean_squared_error : 59.35\n",
      "r2_score : 0.79\n"
     ]
    }
   ],
   "source": [
    "model = XGBRegressor(learning_rate=0.1,max_depth=5)\n",
    "model.fit(X_train,Y_train)\n",
    "\n",
    "Y_pred = model.predict(X_test)\n",
    "\n",
    "#scores = cross_val_score(model, x, y, cv=5)\n",
    "\n",
    "mae = mean_absolute_error(Y_test,Y_pred)\n",
    "mse = mean_squared_error(Y_test,Y_pred)\n",
    "r2 = r2_score(Y_test,Y_pred)\n",
    "\n",
    "print(f'mean_absolute_error : {mae:.2f}')\n",
    "print(f'mean_squared_error : {mse:.2f}')\n",
    "print(f'r2_score : {r2:.2f}')\n",
    "#print(\"Cross-validation scores : \", scores.mean())"
   ]
  },
  {
   "cell_type": "markdown",
   "metadata": {},
   "source": [
    "## Ann"
   ]
  },
  {
   "cell_type": "code",
   "execution_count": 31,
   "metadata": {},
   "outputs": [],
   "source": [
    "# model = Sequential([\n",
    "#     Dense(64,activation='relu',input_dim=X_train.shape[1]),\n",
    "#     Dense(32,activation='relu'),\n",
    "#     Dense(9,activation='relu'),\n",
    "#     Dense(1),\n",
    "# ])"
   ]
  },
  {
   "cell_type": "code",
   "execution_count": 32,
   "metadata": {},
   "outputs": [],
   "source": [
    "# from tensorflow.keras.optimizers import SGD\n",
    "# optimizer = SGD(learning_rate=0.01, momentum=0.9)\n",
    "# model.compile(optimizer=optimizer, loss='mean_squared_error', metrics=['mae'])"
   ]
  },
  {
   "cell_type": "code",
   "execution_count": 33,
   "metadata": {},
   "outputs": [],
   "source": [
    "# model.fit(X_train,Y_train,epochs=100,batch_size=10)"
   ]
  },
  {
   "cell_type": "code",
   "execution_count": 34,
   "metadata": {},
   "outputs": [],
   "source": [
    "# Y_pred = model.predict(X_test)\n",
    "\n",
    "# accuracy = r2_score(Y_test,Y_pred)\n",
    "# accuracy"
   ]
  }
 ],
 "metadata": {
  "kernelspec": {
   "display_name": "jay",
   "language": "python",
   "name": "python3"
  },
  "language_info": {
   "codemirror_mode": {
    "name": "ipython",
    "version": 3
   },
   "file_extension": ".py",
   "mimetype": "text/x-python",
   "name": "python",
   "nbconvert_exporter": "python",
   "pygments_lexer": "ipython3",
   "version": "3.10.15"
  }
 },
 "nbformat": 4,
 "nbformat_minor": 2
}
